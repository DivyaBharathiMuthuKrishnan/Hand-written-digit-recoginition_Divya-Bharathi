{
  "nbformat": 4,
  "nbformat_minor": 0,
  "metadata": {
    "colab": {
      "provenance": []
    },
    "kernelspec": {
      "name": "python3",
      "display_name": "Python 3"
    },
    "language_info": {
      "name": "python"
    }
  },
  "cells": [
    {
      "cell_type": "code",
      "execution_count": 1,
      "metadata": {
        "colab": {
          "base_uri": "https://localhost:8080/",
          "height": 688
        },
        "id": "T8o2V6c5woT8",
        "outputId": "2a37c738-1ee6-44c1-ac5f-e5d055d2787e"
      },
      "outputs": [
        {
          "output_type": "stream",
          "name": "stdout",
          "text": [
            "Downloading data from https://storage.googleapis.com/tensorflow/tf-keras-datasets/mnist.npz\n",
            "11490434/11490434 [==============================] - 0s 0us/step\n",
            "Epoch 1/5\n",
            "844/844 [==============================] - 29s 29ms/step - loss: 0.4122 - accuracy: 0.8743 - val_loss: 0.1657 - val_accuracy: 0.9538\n",
            "Epoch 2/5\n",
            "844/844 [==============================] - 15s 17ms/step - loss: 0.2016 - accuracy: 0.9411 - val_loss: 0.1056 - val_accuracy: 0.9708\n",
            "Epoch 3/5\n",
            "844/844 [==============================] - 15s 18ms/step - loss: 0.1574 - accuracy: 0.9547 - val_loss: 0.1186 - val_accuracy: 0.9682\n",
            "Epoch 4/5\n",
            "844/844 [==============================] - 14s 17ms/step - loss: 0.1420 - accuracy: 0.9585 - val_loss: 0.1068 - val_accuracy: 0.9698\n",
            "Epoch 5/5\n",
            "844/844 [==============================] - 14s 16ms/step - loss: 0.1299 - accuracy: 0.9617 - val_loss: 0.1058 - val_accuracy: 0.9710\n",
            "313/313 [==============================] - 3s 8ms/step - loss: 0.1346 - accuracy: 0.9617\n",
            "Test accuracy: 0.9617000222206116\n",
            "1/1 [==============================] - 0s 393ms/step\n"
          ]
        },
        {
          "output_type": "display_data",
          "data": {
            "text/plain": [
              "<Figure size 640x480 with 1 Axes>"
            ],
            "image/png": "[encoded data removed]"
          },
          "metadata": {}
        }
      ],
      "source": [
        "import tensorflow as tf\n",
        "from tensorflow import keras\n",
        "import matplotlib.pyplot as plt\n",
        "import numpy as np\n",
        "\n",
        "# Load the MNIST dataset\n",
        "(X_train, y_train), (X_test, y_test) = keras.datasets.mnist.load_data()\n",
        "\n",
        "# Normalize the pixel values to the range [0, 1]\n",
        "X_train = X_train / 255.0\n",
        "X_test = X_test / 255.0\n",
        "\n",
        "# Define the model architecture\n",
        "model = keras.models.Sequential([\n",
        "    keras.layers.SimpleRNN(128, input_shape=(28, 28)),\n",
        "    keras.layers.Dense(10, activation='softmax')\n",
        "])\n",
        "\n",
        "# Compile the model\n",
        "model.compile(optimizer='adam',\n",
        "              loss='sparse_categorical_crossentropy',\n",
        "              metrics=['accuracy'])\n",
        "\n",
        "# Reshape the input data to fit the RNN input shape\n",
        "X_train = X_train.reshape(-1, 28, 28)\n",
        "X_test = X_test.reshape(-1, 28, 28)\n",
        "\n",
        "# Train the model\n",
        "model.fit(X_train, y_train, epochs=5, batch_size=64, validation_split=0.1)\n",
        "\n",
        "# Evaluate the model on the test set\n",
        "test_loss, test_acc = model.evaluate(X_test, y_test)\n",
        "print('Test accuracy:', test_acc)\n",
        "\n",
        "# Choose a random test image\n",
        "index = np.random.randint(0, len(X_test))\n",
        "test_image = X_test[index]\n",
        "true_label = y_test[index]\n",
        "\n",
        "# Make a prediction\n",
        "prediction = np.argmax(model.predict(test_image.reshape(1, 28, 28)))\n",
        "\n",
        "# Display the image and prediction\n",
        "plt.imshow(test_image, cmap='gray')\n",
        "plt.title(f\"True Label: {true_label}, Predicted Label: {prediction}\")\n",
        "plt.axis('off')\n",
        "plt.show()"
      ]
    }
  ]
}